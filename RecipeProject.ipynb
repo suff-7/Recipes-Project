{
  "nbformat": 4,
  "nbformat_minor": 0,
  "metadata": {
    "colab": {
      "provenance": []
    },
    "kernelspec": {
      "name": "python3",
      "display_name": "Python 3"
    },
    "language_info": {
      "name": "python"
    }
  },
  "cells": [
    {
      "cell_type": "code",
      "execution_count": 19,
      "metadata": {
        "id": "XJZ38aI_yn89"
      },
      "outputs": [],
      "source": [
        "import pandas as pd\n",
        "from sklearn.feature_extraction.text import CountVectorizer\n",
        "from sklearn.metrics.pairwise import cosine_similarity"
      ]
    },
    {
      "cell_type": "code",
      "source": [
        "recipes_df = pd.read_csv('/content/drive/MyDrive/recipes.csv')\n",
        "recipes_df['RecipeIngredientParts'] = recipes_df['RecipeIngredientParts'].apply(lambda x: x.lower())"
      ],
      "metadata": {
        "id": "DcK6ADGB1qXT"
      },
      "execution_count": 20,
      "outputs": []
    },
    {
      "cell_type": "code",
      "source": [
        "vectorizer = CountVectorizer(tokenizer=lambda x: x.split(', '))\n",
        "ingredient_matrix = vectorizer.fit_transform(recipes_df['RecipeIngredientParts'])"
      ],
      "metadata": {
        "id": "75DH87MJ3cF7",
        "outputId": "20239f15-49b1-4693-84d0-92b4be8b3fef",
        "colab": {
          "base_uri": "https://localhost:8080/"
        }
      },
      "execution_count": 21,
      "outputs": [
        {
          "output_type": "stream",
          "name": "stderr",
          "text": [
            "/usr/local/lib/python3.10/dist-packages/sklearn/feature_extraction/text.py:525: UserWarning: The parameter 'token_pattern' will not be used since 'tokenizer' is not None'\n",
            "  warnings.warn(\n"
          ]
        }
      ]
    },
    {
      "cell_type": "code",
      "source": [
        "def get_recipe_recommendations(user_ingredients, top_n=5):\n",
        "    user_ingredients = ', '.join(user_ingredients).lower()\n",
        "    user_vector = vectorizer.transform([user_ingredients])\n",
        "    similarity_scores = cosine_similarity(user_vector, ingredient_matrix)\n",
        "    similar_recipes_idx = similarity_scores.argsort()[0][-top_n:][::-1]\n",
        "    recommended_recipes = recipes_df.iloc[similar_recipes_idx]\n",
        "    return recommended_recipes[['Name', 'RecipeIngredientParts']]"
      ],
      "metadata": {
        "id": "cpSy6Yig3q-V"
      },
      "execution_count": 22,
      "outputs": []
    },
    {
      "cell_type": "code",
      "source": [
        "def main():\n",
        "    print(\"Welcome to the Recipe Recommendation System!\")\n",
        "    print(\"Please enter the ingredients you have separated by commas please :) \")\n",
        "    user_input = input()\n",
        "    user_ingredients = [ingredient.strip() for ingredient in user_input.split(\",\")]\n",
        "    recommended_recipes = get_recipe_recommendations(user_ingredients)\n",
        "    if not recommended_recipes.empty:\n",
        "        print(\"\\nHere are some recipe suggestions based on your ingredients:\")\n",
        "        for idx, row in recommended_recipes.iterrows():\n",
        "            print(f\"- {row['Name']}: {row['RecipeIngredientParts']}\")\n",
        "    else:\n",
        "        print(\"Sorry, no recipes match your ingredients.\")"
      ],
      "metadata": {
        "id": "j35HvlVq5vhB"
      },
      "execution_count": 23,
      "outputs": []
    },
    {
      "cell_type": "code",
      "source": [
        "if __name__ == \"__main__\":\n",
        "    main()"
      ],
      "metadata": {
        "id": "AaUz87mc5T-Q",
        "outputId": "dcbe28ec-4412-4a76-e9cd-30d9ce56759e",
        "colab": {
          "base_uri": "https://localhost:8080/"
        }
      },
      "execution_count": 24,
      "outputs": [
        {
          "output_type": "stream",
          "name": "stdout",
          "text": [
            "Welcome to the Recipe Recommendation System!\n",
            "Please enter the ingredients you have separated by commas please :) \n",
            "tomato\n",
            "\n",
            "Here are some recipe suggestions based on your ingredients:\n",
            "- Spicy Baked Scotch Eggs: c(\"hard-boiled eggs\", \"breakfast sausage\", \"panko breadcrumbs\", \"worcestershire sauce\", \"flour\", \"panko breadcrumbs\", \"water\")\n",
            "- Mushroom and Barley Casserole: c(\"onion\", \"celery\", \"butter\", \"margarine\", \"barley\", \"chicken broth\", \"mushroom stems and pieces\")\n",
            "- Newtown Limeade: c(\"limes\", \"lemons\", \"sugar\", \"carbonated water\", \"spearmint\")\n",
            "- Spiced Tomato Sauce: c(\"onion\", \"garlic clove\", \"fresh ginger\", \"ground cumin\", \"hot paprika\", \"ground cinnamon\", \"cayenne\", \"ground cloves\", \"olive oil\", \"cider vinegar\", \"tomatoes with juice\", \"light brown sugar\")\n",
            "- Mom's Favorite Apple Cobbler: c(\"butter\", \"margarine\", \"granulated sugar\", \"self rising flour\", \"shortening\", \"milk\", \"granny smith apples\", \"cinnamon\")\n"
          ]
        }
      ]
    }
  ]
}